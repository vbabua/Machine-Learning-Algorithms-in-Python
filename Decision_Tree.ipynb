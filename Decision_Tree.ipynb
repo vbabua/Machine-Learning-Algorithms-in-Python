{
  "nbformat": 4,
  "nbformat_minor": 0,
  "metadata": {
    "colab": {
      "provenance": []
    },
    "kernelspec": {
      "name": "python3",
      "display_name": "Python 3"
    },
    "language_info": {
      "name": "python"
    }
  },
  "cells": [
    {
      "cell_type": "markdown",
      "source": [
        "# Problem Statement : Predicting Plant Health Based on Leaf Attributes\n",
        "\n",
        "Problem Description:\n",
        "Suppose you are starting a company that specializes in monitoring plant health for large-scale agricultural operations or individual gardens. To manage this, you need a system to assess the health of plants based on the physical characteristics of their leaves.\n",
        "\n",
        "Task:\n",
        "Using existing data on various plants, develop a model to predict whether a plant is healthy or diseased based on attributes such as leaf color, leaf spots, and texture."
      ],
      "metadata": {
        "id": "KAop0XUQuEHT"
      }
    },
    {
      "cell_type": "markdown",
      "source": [
        "# Data Set\n",
        "\n",
        "Your dataset consists of examples of different plant leaves. For each example, you have the following features:\n",
        "\n",
        "Leaf Color: Green, Yellow, Brown \\\\\n",
        "Leaf Spots: None, Small, Large \\\\\n",
        "Texture: Smooth, Rough \\\\\n",
        "Healthy: 1 (healthy), 0 (diseased) \\\\\n",
        "\n",
        "\n",
        "\n",
        "|    | Leaf Color | Leaf Spots | Texture | Healthy |\n",
        "|----|------------|------------|---------|---------|\n",
        "| 0  | Green      | None       | Smooth  | 1       |\n",
        "| 1  | Yellow     | Small      | Rough   | 0       |\n",
        "| 2  | Brown      | Large      | Smooth  | 0       |\n",
        "| 3  | Green      | None       | Rough   | 1       |\n",
        "| 4  | Yellow     | None       | Smooth  | 1       |\n",
        "| 5  | Brown      | Small      | Rough   | 0       |\n",
        "| 6  | Green      | Large      | Rough   | 0       |\n",
        "| 7  | Yellow     | Large      | Smooth  | 0       |\n",
        "| 8  | Green      | Small      | Smooth  | 1       |\n",
        "| 9  | Brown      | None       | Rough   | 0       |"
      ],
      "metadata": {
        "id": "x4NgQb4FuUtO"
      }
    },
    {
      "cell_type": "markdown",
      "source": [
        "## One hot encoded dataset\n",
        "\n",
        "|    | Green Leaf | Yellow Leaf | Brown Leaf | No Spots | Small Spots | Large Spots | Smooth Texture | Rough Texture | Healthy |\n",
        "|----|------------|-------------|------------|----------|-------------|-------------|----------------|---------------|---------|\n",
        "| 0  | 1          | 0           | 0          | 1        | 0           | 0           | 1              | 0             | 1       |\n",
        "| 1  | 0          | 1           | 0          | 0        | 1           | 0           | 0              | 1             | 0       |\n",
        "| 2  | 0          | 0           | 1          | 0        | 0           | 1           | 1              | 0             | 0       |\n",
        "| 3  | 1          | 0           | 0          | 1        | 0           | 0           | 0              | 1             | 1       |\n",
        "| 4  | 0          | 1           | 0          | 1        | 0           | 0           | 1              | 0             | 1       |\n",
        "| 5  | 0          | 0           | 1          | 0        | 1           | 0           | 0              | 1             | 0       |\n",
        "| 6  | 1          | 0           | 0          | 0        | 0           | 1           | 0              | 1             | 0       |\n",
        "| 7  | 0          | 1           | 0          | 0        | 0           | 1           | 1              | 0             | 0       |\n",
        "| 8  | 1          | 0           | 0          | 0        | 1           | 0           | 1              | 0             | 1       |\n",
        "| 9  | 0          | 0           | 1          | 1        | 0           | 0           | 0              | 1             | 0       |"
      ],
      "metadata": {
        "id": "yjenB2hwu4NI"
      }
    },
    {
      "cell_type": "code",
      "execution_count": null,
      "metadata": {
        "colab": {
          "base_uri": "https://localhost:8080/"
        },
        "id": "Q4r_4m7bt_30",
        "outputId": "af58182d-b8f4-45e7-b18d-ebce58510748"
      },
      "outputs": [
        {
          "output_type": "stream",
          "name": "stdout",
          "text": [
            "X_train:\n",
            " [[1 0 0 1 0 0 1 0]\n",
            " [0 1 0 0 1 0 0 1]\n",
            " [0 0 1 0 0 1 1 0]\n",
            " [1 0 0 1 0 0 0 1]\n",
            " [0 1 0 1 0 0 1 0]\n",
            " [0 0 1 0 1 0 0 1]\n",
            " [1 0 0 0 0 1 0 1]\n",
            " [0 1 0 0 0 1 1 0]\n",
            " [1 0 0 0 1 0 1 0]\n",
            " [0 0 1 1 0 0 0 1]]\n",
            "y_train:\n",
            " [1 0 0 1 1 0 0 0 1 0]\n"
          ]
        }
      ],
      "source": [
        "import numpy as np\n",
        "\n",
        "# Define the features in X_train where each row corresponds to an example.\n",
        "X_train = np.array([\n",
        "    [1, 0, 0, 1, 0, 0, 1, 0],\n",
        "    [0, 1, 0, 0, 1, 0, 0, 1],\n",
        "    [0, 0, 1, 0, 0, 1, 1, 0],\n",
        "    [1, 0, 0, 1, 0, 0, 0, 1],\n",
        "    [0, 1, 0, 1, 0, 0, 1, 0],\n",
        "    [0, 0, 1, 0, 1, 0, 0, 1],\n",
        "    [1, 0, 0, 0, 0, 1, 0, 1],\n",
        "    [0, 1, 0, 0, 0, 1, 1, 0],\n",
        "    [1, 0, 0, 0, 1, 0, 1, 0],\n",
        "    [0, 0, 1, 1, 0, 0, 0, 1]\n",
        "])\n",
        "\n",
        "# Define the labels in y_train where each value corresponds to whether the plant is healthy.\n",
        "y_train = np.array([1, 0, 0, 1, 1, 0, 0, 0, 1, 0])\n",
        "\n",
        "# Display the arrays\n",
        "print(\"X_train:\\n\", X_train)\n",
        "print(\"y_train:\\n\", y_train)"
      ]
    },
    {
      "cell_type": "code",
      "source": [
        "print ('The shape of X_train is:', X_train.shape)\n",
        "print ('The shape of y_train is: ', y_train.shape)\n",
        "print ('Number of training examples (m):', len(X_train))"
      ],
      "metadata": {
        "colab": {
          "base_uri": "https://localhost:8080/"
        },
        "id": "r_e3b3QpvWNW",
        "outputId": "fbd7cc65-3c42-4a5a-b093-23e679d7ae38"
      },
      "execution_count": null,
      "outputs": [
        {
          "output_type": "stream",
          "name": "stdout",
          "text": [
            "The shape of X_train is: (10, 8)\n",
            "The shape of y_train is:  (10,)\n",
            "Number of training examples (m): 10\n"
          ]
        }
      ]
    },
    {
      "cell_type": "markdown",
      "source": [
        "# Calculate entropy\n",
        "\n",
        "$$H(p_1) = -p_1 \\text{log}_2(p_1) - (1- p_1) \\text{log}_2(1- p_1)$$"
      ],
      "metadata": {
        "id": "ElaMrj3HveVm"
      }
    },
    {
      "cell_type": "code",
      "source": [
        "def compute_entropy(y):\n",
        "  \"\"\"\n",
        "  y (ndarray): Numpy array indicating whether each example at a node is\n",
        "           healthy(1) or diseased(0)\n",
        "  Returns :\n",
        "  entropy : Entropy at the node\n",
        "  \"\"\"\n",
        "  entropy = 0.\n",
        "\n",
        "  if len(y) != 0:\n",
        "    p = len(y[y == 1]) / len(y)\n",
        "\n",
        "    if p == 0 or p == 1:\n",
        "      return 0\n",
        "    entropy =  - p * np.log2(p) - (1 - p) * np.log2(1 - p)\n",
        "\n",
        "  return entropy\n",
        "\n"
      ],
      "metadata": {
        "id": "9Sl6n9sfvcKs"
      },
      "execution_count": 5,
      "outputs": []
    },
    {
      "cell_type": "markdown",
      "source": [
        "# Split dataset\n",
        "\n",
        "Takes in the data at a node and a feature to split on and splits it into left and right branches\n",
        "\n",
        "For example, say we're starting at the root node (so `node_indices = [0,1,2,3,4,5,6,7,8,9]`), and we chose to split on feature `0`, which is whether or not the example has green leaf.   \n",
        "    The output of the function is then\n",
        "    \n",
        "    left_indices = [0, 3, 6, 8](data points which has green leaf) and\n",
        "    \n",
        "    right_indices = [1, 2, 4, 5, 7, 9](data points which does not have a green leaft)"
      ],
      "metadata": {
        "id": "y3-80MeGxE2l"
      }
    },
    {
      "cell_type": "code",
      "source": [
        "def split_dataset(X, node_indices, feature):\n",
        "    \"\"\"\n",
        "    X (ndarray):             Data matrix of shape(n_samples, n_features)\n",
        "    node_indices (list):     List containing the active indices. I.e, the samples being considered at this step.\n",
        "    feature (int):           Index of feature to split on\n",
        "\n",
        "    Returns:\n",
        "        left_indices (list):     Indices with feature value == 1\n",
        "        right_indices (list):    Indices with feature value == 0\n",
        "    \"\"\"\n",
        "    left_indices = []\n",
        "    right_indices = []\n",
        "\n",
        "    for i in node_indices:\n",
        "        if X[i][feature] == 1:\n",
        "            left_indices.append(i)\n",
        "        else:\n",
        "            right_indices.append(i)\n",
        "\n",
        "    return left_indices, right_indices"
      ],
      "metadata": {
        "id": "1MBs7jJWw1rt"
      },
      "execution_count": 6,
      "outputs": []
    },
    {
      "cell_type": "markdown",
      "source": [
        "# Information Gain\n",
        "\n",
        "$$\\text{Information Gain} = H(p_1^\\text{node})- (w^{\\text{left}}H(p_1^\\text{left}) + w^{\\text{right}}H(p_1^\\text{right}))$$"
      ],
      "metadata": {
        "id": "VyW77KSlzRa6"
      }
    },
    {
      "cell_type": "code",
      "source": [
        "def compute_information_gain(X, y, node_indices, feature):\n",
        "\n",
        "    \"\"\"\n",
        "    X (ndarray):            Data matrix of shape(n_samples, n_features)\n",
        "    y (array like):         list or ndarray with n_samples containing the target variable\n",
        "    node_indices (ndarray): List containing the active indices. I.e, the samples being considered in this step.\n",
        "    feature (int):           Index of feature to split on\n",
        "\n",
        "    Returns:\n",
        "        cost (float):        Cost computed\n",
        "\n",
        "    \"\"\"\n",
        "    # Split dataset\n",
        "    left_indices, right_indices = split_dataset(X, node_indices, feature)\n",
        "\n",
        "    X_node, y_node = X[node_indices], y[node_indices]\n",
        "    X_left, y_left = X[left_indices], y[left_indices]\n",
        "    X_right, y_right = X[right_indices], y[right_indices]\n",
        "\n",
        "    root_entropy = compute_entropy(y_node)\n",
        "    left_entropy = compute_entropy(y_left)\n",
        "    right_entropy = compute_entropy(y_right)\n",
        "\n",
        "    w_left = len(X_left) / len(X_node)\n",
        "    w_right = len(X_right) / len(X_node)\n",
        "\n",
        "\n",
        "    information_gain = root_entropy - (w_left * left_entropy + w_right * right_entropy)\n",
        "\n",
        "    return information_gain"
      ],
      "metadata": {
        "id": "BoiaH5kizUNI"
      },
      "execution_count": 7,
      "outputs": []
    },
    {
      "cell_type": "markdown",
      "source": [
        "# Get Best Split"
      ],
      "metadata": {
        "id": "RNQvMeJ4z0Ai"
      }
    },
    {
      "cell_type": "code",
      "source": [
        "def get_best_split(X, y, node_indices):\n",
        "    \"\"\"\n",
        "    X (ndarray):            Data matrix of shape(n_samples, n_features)\n",
        "    y (array like):         list or ndarray with n_samples containing the target variable\n",
        "    node_indices (ndarray): List containing the active indices. I.e, the samples being considered in this step.\n",
        "\n",
        "    Returns:\n",
        "        best_feature (int):     The index of the best feature to split\n",
        "    \"\"\"\n",
        "\n",
        "    num_features = X.shape[1]\n",
        "\n",
        "    best_feature = -1\n",
        "\n",
        "    max_info_gain = 0\n",
        "\n",
        "    for feature in range(num_features):\n",
        "        info_gain = compute_information_gain(X, y, node_indices, feature)\n",
        "\n",
        "        if info_gain >  max_info_gain:\n",
        "            max_info_gain =  info_gain\n",
        "            best_feature =  feature\n",
        "\n",
        "    return best_feature"
      ],
      "metadata": {
        "id": "chRqKOxjzxWv"
      },
      "execution_count": 8,
      "outputs": []
    },
    {
      "cell_type": "code",
      "source": [
        "def build_tree_recursive(X, y, node_indices, branch_name, max_depth, current_depth):\n",
        "    \"\"\"\n",
        "    X (ndarray):            Data matrix of shape(n_samples, n_features)\n",
        "    y (array like):         list or ndarray with n_samples containing the target variable\n",
        "    node_indices (ndarray): List containing the active indices. I.e, the samples being considered in this step.\n",
        "    branch_name (string):   Name of the branch. ['Root', 'Left', 'Right']\n",
        "    max_depth (int):        Max depth of the resulting tree.\n",
        "    current_depth (int):    Current depth. Parameter used during recursive call.\n",
        "\n",
        "    \"\"\"\n",
        "    if current_depth == max_depth or not node_indices:\n",
        "        formatting = \" \" * current_depth + \"-\" * current_depth\n",
        "        print(formatting, f\"{branch_name} leaf node with indices: {node_indices} | Majority class: {np.bincount(y[node_indices]).argmax() if node_indices else 'N/A'}\")\n",
        "        return\n",
        "\n",
        "    if np.all(y[node_indices] == y[node_indices][0]):\n",
        "        print(\" \" * current_depth + \"-\" * current_depth, f\"{branch_name} leaf node with indices: {node_indices} | Uniform class: {y[node_indices][0]}\")\n",
        "        return\n",
        "\n",
        "    best_feature = get_best_split(X, y, node_indices)\n",
        "    if best_feature == -1:\n",
        "        print(\" \" * current_depth + \"-\" * current_depth, f\"{branch_name} leaf node with indices: {node_indices} | No information gain\")\n",
        "        return\n",
        "\n",
        "    left_indices, right_indices = split_dataset(X, node_indices, best_feature)\n",
        "    tree.append((left_indices, right_indices, best_feature))\n",
        "\n",
        "    formatting = \"-\" * current_depth\n",
        "    print(f\"{formatting} Depth {current_depth}, {branch_name}: Split on feature: {best_feature}\")\n",
        "\n",
        "    build_tree_recursive(X, y, left_indices, \"Left\", max_depth, current_depth+1)\n",
        "    build_tree_recursive(X, y, right_indices, \"Right\", max_depth, current_depth+1)\n",
        "\n"
      ],
      "metadata": {
        "colab": {
          "base_uri": "https://localhost:8080/"
        },
        "id": "0vrMqODK1v5_",
        "outputId": "6cc734c0-8e75-4c62-a920-1bfd651a8b97"
      },
      "execution_count": 23,
      "outputs": [
        {
          "output_type": "stream",
          "name": "stdout",
          "text": [
            " Depth 0, Root: Split on feature: 2\n",
            " - Left leaf node with indices: [2, 5, 9] | Uniform class: 0\n",
            "- Depth 1, Right: Split on feature: 3\n",
            "  -- Left leaf node with indices: [0, 3, 4] | Majority class: 1\n",
            "  -- Right leaf node with indices: [1, 6, 7, 8] | Majority class: 0\n"
          ]
        }
      ]
    },
    {
      "cell_type": "code",
      "source": [
        "root_indices = list(range(len(y_train)))\n",
        "build_tree_recursive(X_train, y_train, root_indices, \"Root\", max_depth=2, current_depth=0)\n"
      ],
      "metadata": {
        "colab": {
          "base_uri": "https://localhost:8080/"
        },
        "id": "zg65oPkf0DHb",
        "outputId": "2199f4e4-c4ac-44d9-87f6-816ca197c955"
      },
      "execution_count": 24,
      "outputs": [
        {
          "output_type": "stream",
          "name": "stdout",
          "text": [
            " Depth 0, Root: Split on feature: 2\n",
            " - Left leaf node with indices: [2, 5, 9] | Uniform class: 0\n",
            "- Depth 1, Right: Split on feature: 3\n",
            "  -- Left leaf node with indices: [0, 3, 4] | Majority class: 1\n",
            "  -- Right leaf node with indices: [1, 6, 7, 8] | Majority class: 0\n"
          ]
        }
      ]
    },
    {
      "cell_type": "code",
      "source": [],
      "metadata": {
        "id": "w2Tm5IU80NgR"
      },
      "execution_count": 23,
      "outputs": []
    },
    {
      "cell_type": "code",
      "source": [],
      "metadata": {
        "id": "aa0NnCOQ0Uup"
      },
      "execution_count": 17,
      "outputs": []
    },
    {
      "cell_type": "code",
      "source": [],
      "metadata": {
        "id": "j7c4NSuc0hww"
      },
      "execution_count": null,
      "outputs": []
    }
  ]
}